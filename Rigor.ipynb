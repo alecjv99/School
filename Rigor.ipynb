{
  "nbformat": 4,
  "nbformat_minor": 0,
  "metadata": {
    "colab": {
      "provenance": []
    },
    "kernelspec": {
      "name": "python3",
      "display_name": "Python 3"
    },
    "language_info": {
      "name": "python"
    }
  },
  "cells": [
    {
      "cell_type": "code",
      "execution_count": 5,
      "metadata": {
        "colab": {
          "base_uri": "https://localhost:8080/"
        },
        "id": "-fKfnbzMj5CE",
        "outputId": "eb380009-ec7c-4f98-b572-3e744fed7fc4"
      },
      "outputs": [
        {
          "output_type": "stream",
          "name": "stdout",
          "text": [
            "2023-11-01 15:48:20.731127\n"
          ]
        }
      ],
      "source": [
        "import datetime\n",
        "x = datetime.datetime.now()\n",
        "print(x)"
      ]
    },
    {
      "cell_type": "code",
      "source": [
        "3*5"
      ],
      "metadata": {
        "colab": {
          "base_uri": "https://localhost:8080/"
        },
        "id": "ajW2K9gJkRQz",
        "outputId": "acbba5e9-5c92-450b-e75c-1138a22d02c5"
      },
      "execution_count": 2,
      "outputs": [
        {
          "output_type": "execute_result",
          "data": {
            "text/plain": [
              "15"
            ]
          },
          "metadata": {},
          "execution_count": 2
        }
      ]
    },
    {
      "cell_type": "markdown",
      "source": [
        "The whole point of doing science is to get to a fundamental truth and so transparency and trust must be standards that we uphold in our communities. This is true for wet and dry lab work, and places like GitHub provide open access places where scientists can be transparent with the code that they use to analyze their important findings. With new omics technologies (RNA sequencing, mass spec, etc) becoming more affordable the use of such computationally intensive experiments is becoming much more widespread. In turn this leads to more of our conclusions being based on the legs of our bioinformatic work, and if we really want to have rigorous work that can be reproduced and makes a difference in the world we need places to be transparent with our code just like everything else. Code is a unique medium because unlike a western blot leaves behind a written record of exactly what commands were used to do whatever analysis. Such work should be almost perfectly reproducible if another group has the data and code that was used to analyze it. I feel that uploading such data is essential for transparency and rigor in science today."
      ],
      "metadata": {
        "id": "HLJms1Ybkl09"
      }
    }
  ]
}